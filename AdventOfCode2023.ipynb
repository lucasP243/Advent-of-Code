{
 "cells": [
  {
   "cell_type": "markdown",
   "id": "925ead75-9a2a-4c41-9bf6-4ca9e7f6dfb9",
   "metadata": {},
   "source": [
    "# Advent Of Code 2023"
   ]
  },
  {
   "cell_type": "markdown",
   "id": "0f390bb1-68e1-45f4-9ccb-8f814fb9b9d6",
   "metadata": {},
   "source": [
    "## Day 1: Trebuchet?!"
   ]
  },
  {
   "cell_type": "code",
   "execution_count": 2,
   "id": "5087891d-f186-4711-912d-2c8711079196",
   "metadata": {},
   "outputs": [
    {
     "name": "stdout",
     "output_type": "stream",
     "text": [
      "The sum of all the calibration values is 55447\n"
     ]
    }
   ],
   "source": [
    "# Part 1\n",
    "def extract_number(from_line: str) -> int:\n",
    "    clean_line = ''.join(char for char in from_line if char.isdigit())\n",
    "    return int(clean_line[0] + clean_line[-1])\n",
    "\n",
    "with open('files/day1-input', 'r', encoding='utf-8') as input_file:\n",
    "    print(f\"The sum of all the calibration values is {sum(extract_number(line) for line in input_file)}\")"
   ]
  },
  {
   "cell_type": "code",
   "execution_count": 3,
   "id": "5deec0bf-0dee-45d1-a6b4-5b33321ef288",
   "metadata": {},
   "outputs": [
    {
     "name": "stdout",
     "output_type": "stream",
     "text": [
      "The sum of all the calibration values is 54706\n"
     ]
    }
   ],
   "source": [
    "# Part 2\n",
    "DIGIT_REPLACEMENT = {\n",
    "    'one': 1,\n",
    "    'two': 2,\n",
    "    'three': 3,\n",
    "    'four': 4,\n",
    "    'five': 5,\n",
    "    'six': 6,\n",
    "    'seven': 7,\n",
    "    'eight': 8,\n",
    "    'nine': 9\n",
    "}\n",
    "\n",
    "def extract_number(from_line: str) -> int:\n",
    "    \n",
    "    first_digit, last_digit = None, None\n",
    "\n",
    "    for (index, char) in enumerate(from_line):\n",
    "        \n",
    "        # Match regular digit\n",
    "        if char.isdigit():\n",
    "            last_digit = char\n",
    "        \n",
    "        else:\n",
    "            # Match spelled out digit\n",
    "            matches = [value for digit, value in DIGIT_REPLACEMENT.items() if from_line[index:].startswith(digit)]\n",
    "            if any(matches):\n",
    "                last_digit = str(matches[0])\n",
    "    \n",
    "        if first_digit is None:\n",
    "            first_digit = last_digit\n",
    "            \n",
    "    return int(first_digit + last_digit)\n",
    "\n",
    "with open('files/day1-input', 'r', encoding='utf-8') as input_file:\n",
    "    print(f\"The sum of all the calibration values is {sum(extract_number(line) for line in input_file)}\")"
   ]
  },
  {
   "cell_type": "markdown",
   "id": "b38e77a3-a28c-4de7-8cbc-ed92b6ad6cb6",
   "metadata": {},
   "source": [
    "## Day 2 - Cube conundrum"
   ]
  },
  {
   "cell_type": "code",
   "execution_count": 51,
   "id": "51aa4a2a-91be-4264-a291-208adec412e4",
   "metadata": {},
   "outputs": [
    {
     "name": "stdout",
     "output_type": "stream",
     "text": [
      "The sum of all possible game IDs is 2416\n"
     ]
    }
   ],
   "source": [
    "# Part 1\n",
    "import re\n",
    "\n",
    "MAX_AMOUNTS = {\n",
    "    \"red\":   12,\n",
    "    \"green\": 13,\n",
    "    \"blue\":  14,\n",
    "}\n",
    "\n",
    "RE_PARSE_GAME = re.compile(r\"Game (\\d+): (.*)\")\n",
    "RE_PARSE_DRAW = re.compile(r\"(\\d+) (red|green|blue)\")\n",
    "\n",
    "def process_game(line: str) -> tuple[int, int]:\n",
    "    \"\"\"Process the game result given as a string\n",
    "    Returns a tuple containing the id of the game and True if the game is possible.\n",
    "    \"\"\"\n",
    "    game_id, game_content = RE_PARSE_GAME.match(line).groups()\n",
    "\n",
    "    return int(game_id), all(\n",
    "        int(number) <= MAX_AMOUNTS[color]\n",
    "        for number, color in (\n",
    "            RE_PARSE_DRAW.search(bit).groups()\n",
    "            for draw in game_content.split(sep=\";\")\n",
    "            for bit in draw.split(sep=\",\")\n",
    "        )\n",
    "    )\n",
    "\n",
    "with open('files/day2-input', 'r', encoding='utf-8') as input_file:\n",
    "    print(f\"The sum of all possible game IDs is {sum(id for id, result in (process_game(line) for line in input_file) if result)}\")"
   ]
  },
  {
   "cell_type": "code",
   "execution_count": 55,
   "id": "5fcd6904-d737-4cf5-9968-038230ea3087",
   "metadata": {},
   "outputs": [
    {
     "name": "stdout",
     "output_type": "stream",
     "text": [
      "The sum of all possible game IDs is 63307\n"
     ]
    }
   ],
   "source": [
    "# Part 2\n",
    "import re\n",
    "import operator\n",
    "from functools import reduce\n",
    "\n",
    "RE_PARSE_GAME = re.compile(r\"Game (\\d+): (.*)\")\n",
    "RE_PARSE_DRAW = re.compile(r\"(\\d+) (red|green|blue)\")\n",
    "\n",
    "def process_game_power(line: str) -> int:\n",
    "    \"\"\"Process the game result given as a string\n",
    "    Returns the power of the minimal possible set of cubes for the game.\n",
    "    \"\"\"\n",
    "    game_id, game_content = RE_PARSE_GAME.match(line).groups()\n",
    "\n",
    "    min_amounts = dict()\n",
    "    for number, color in (RE_PARSE_DRAW.search(bit).groups() for draw in game_content.split(sep=\";\") for bit in draw.split(sep=\",\")):\n",
    "        min_amounts[color] = max(int(number), min_amounts.get(color, 0))\n",
    "        \n",
    "    return reduce(operator.mul, min_amounts.values(), 1)\n",
    "\n",
    "with open('files/day2-input', 'r', encoding='utf-8') as input_file:\n",
    "    print(f\"The sum of all possible game IDs is {sum(process_game_power(line) for line in input_file)}\")"
   ]
  }
 ],
 "metadata": {
  "kernelspec": {
   "display_name": "Python 3 (ipykernel)",
   "language": "python",
   "name": "python3"
  },
  "language_info": {
   "codemirror_mode": {
    "name": "ipython",
    "version": 3
   },
   "file_extension": ".py",
   "mimetype": "text/x-python",
   "name": "python",
   "nbconvert_exporter": "python",
   "pygments_lexer": "ipython3",
   "version": "3.11.5"
  },
  "toc-autonumbering": true
 },
 "nbformat": 4,
 "nbformat_minor": 5
}
