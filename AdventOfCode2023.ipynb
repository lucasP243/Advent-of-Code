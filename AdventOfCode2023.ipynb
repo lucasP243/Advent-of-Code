{
 "cells": [
  {
   "cell_type": "markdown",
   "id": "925ead75-9a2a-4c41-9bf6-4ca9e7f6dfb9",
   "metadata": {},
   "source": [
    "# Advent Of Code 2023"
   ]
  },
  {
   "cell_type": "markdown",
   "id": "0f390bb1-68e1-45f4-9ccb-8f814fb9b9d6",
   "metadata": {},
   "source": [
    "## Day 1: Trebuchet?!"
   ]
  },
  {
   "cell_type": "code",
   "execution_count": null,
   "id": "5087891d-f186-4711-912d-2c8711079196",
   "metadata": {},
   "outputs": [],
   "source": [
    "# Part 1\n",
    "def extract_number(from_line: str) -> int:\n",
    "    clean_line = ''.join(char for char in from_line if char.isdigit())\n",
    "    return int(clean_line[0] + clean_line[-1])\n",
    "\n",
    "with open('files/day1-input', 'r', encoding='utf-8') as input_file:\n",
    "    print(f\"The sum of all the calibration values is {sum(extract_number(line) for line in input_file)}\")"
   ]
  },
  {
   "cell_type": "code",
   "execution_count": null,
   "id": "5deec0bf-0dee-45d1-a6b4-5b33321ef288",
   "metadata": {},
   "outputs": [],
   "source": [
    "# Part 2\n",
    "DIGIT_REPLACEMENT = {\n",
    "    'one': 1,\n",
    "    'two': 2,\n",
    "    'three': 3,\n",
    "    'four': 4,\n",
    "    'five': 5,\n",
    "    'six': 6,\n",
    "    'seven': 7,\n",
    "    'eight': 8,\n",
    "    'nine': 9\n",
    "}\n",
    "\n",
    "def extract_number(from_line: str) -> int:\n",
    "    \n",
    "    first_digit, last_digit = None, None\n",
    "\n",
    "    for (index, char) in enumerate(from_line):\n",
    "        \n",
    "        # Match regular digit\n",
    "        if char.isdigit():\n",
    "            last_digit = char\n",
    "        \n",
    "        else:\n",
    "            # Match spelled out digit\n",
    "            matches = [value for digit, value in DIGIT_REPLACEMENT.items() if from_line[index:].startswith(digit)]\n",
    "            if any(matches):\n",
    "                last_digit = str(matches[0])\n",
    "    \n",
    "        if first_digit is None:\n",
    "            first_digit = last_digit\n",
    "            \n",
    "    return int(first_digit + last_digit)\n",
    "\n",
    "with open('files/day1-input', 'r', encoding='utf-8') as input_file:\n",
    "    print(f\"The sum of all the calibration values is {sum(extract_number(line) for line in input_file)}\")"
   ]
  },
  {
   "cell_type": "markdown",
   "id": "b38e77a3-a28c-4de7-8cbc-ed92b6ad6cb6",
   "metadata": {},
   "source": [
    "## Day 2 - Cube conundrum"
   ]
  },
  {
   "cell_type": "code",
   "execution_count": null,
   "id": "51aa4a2a-91be-4264-a291-208adec412e4",
   "metadata": {},
   "outputs": [],
   "source": [
    "# Part 1\n",
    "import re\n",
    "\n",
    "MAX_AMOUNTS = {\n",
    "    \"red\":   12,\n",
    "    \"green\": 13,\n",
    "    \"blue\":  14,\n",
    "}\n",
    "\n",
    "RE_PARSE_GAME = re.compile(r\"Game (\\d+): (.*)\")\n",
    "RE_PARSE_DRAW = re.compile(r\"(\\d+) (red|green|blue)\")\n",
    "\n",
    "def process_game(line: str) -> tuple[int, int]:\n",
    "    \"\"\"Process the game result given as a string\n",
    "    Returns a tuple containing the id of the game and True if the game is possible.\n",
    "    \"\"\"\n",
    "    game_id, game_content = RE_PARSE_GAME.match(line).groups()\n",
    "\n",
    "    return int(game_id), all(\n",
    "        int(number) <= MAX_AMOUNTS[color]\n",
    "        for number, color in (\n",
    "            RE_PARSE_DRAW.search(bit).groups()\n",
    "            for draw in game_content.split(sep=\";\")\n",
    "            for bit in draw.split(sep=\",\")\n",
    "        )\n",
    "    )\n",
    "\n",
    "with open('files/day2-input', 'r', encoding='utf-8') as input_file:\n",
    "    print(f\"The sum of all possible game IDs is {sum(id for id, result in (process_game(line) for line in input_file) if result)}\")"
   ]
  },
  {
   "cell_type": "code",
   "execution_count": null,
   "id": "5fcd6904-d737-4cf5-9968-038230ea3087",
   "metadata": {},
   "outputs": [],
   "source": [
    "# Part 2\n",
    "import re\n",
    "import operator\n",
    "from functools import reduce\n",
    "\n",
    "RE_PARSE_GAME = re.compile(r\"Game (\\d+): (.*)\")\n",
    "RE_PARSE_DRAW = re.compile(r\"(\\d+) (red|green|blue)\")\n",
    "\n",
    "def process_game_power(line: str) -> int:\n",
    "    \"\"\"Process the game result given as a string\n",
    "    Returns the power of the minimal possible set of cubes for the game.\n",
    "    \"\"\"\n",
    "    game_id, game_content = RE_PARSE_GAME.match(line).groups()\n",
    "\n",
    "    min_amounts = dict()\n",
    "    for number, color in (RE_PARSE_DRAW.search(bit).groups() for draw in game_content.split(sep=\";\") for bit in draw.split(sep=\",\")):\n",
    "        min_amounts[color] = max(int(number), min_amounts.get(color, 0))\n",
    "        \n",
    "    return reduce(operator.mul, min_amounts.values(), 1)\n",
    "\n",
    "with open('files/day2-input', 'r', encoding='utf-8') as input_file:\n",
    "    print(f\"The sum of all possible game IDs is {sum(process_game_power(line) for line in input_file)}\")"
   ]
  },
  {
   "cell_type": "markdown",
   "id": "17076521-82d9-4549-a1b1-d660c89e504f",
   "metadata": {},
   "source": [
    "## Day 3 - Gear ratios"
   ]
  },
  {
   "cell_type": "code",
   "execution_count": null,
   "id": "2944656e-6b77-446b-9e17-53cef21d49b5",
   "metadata": {},
   "outputs": [],
   "source": [
    "# Part 1\n",
    "import re\n",
    "\n",
    "RE_FIND_NUMBER = re.compile(r\"\\d+\")\n",
    "\n",
    "with open('files/day3-input', encoding='utf-8') as input_file:\n",
    "    engine: tuple[str, ...] = tuple(line.strip() for line in input_file)\n",
    "\n",
    "# Compute boundaries\n",
    "ENGINE_HEIGHT = len(engine)\n",
    "ENGINE_WIDTH = len(engine[0])\n",
    "\n",
    "total = 0\n",
    "\n",
    "for row, line in enumerate(engine):\n",
    "    for match in RE_FIND_NUMBER.finditer(line):\n",
    "        if any(\n",
    "            char != \".\" and not char.isdigit()\n",
    "            for subline in engine[max(0, row - 1) : min(ENGINE_HEIGHT, row + 2)]\n",
    "            for char in subline[max(0, match.start() - 1) : min(ENGINE_WIDTH, match.end() + 1)]\n",
    "        ):\n",
    "            total += int(match.group(0))\n",
    "\n",
    "print(f\"The sum of all part number is {total}\")"
   ]
  },
  {
   "cell_type": "code",
   "execution_count": 1,
   "id": "6881746f-887e-4c69-949e-f2ad0096f0ae",
   "metadata": {
    "editable": true,
    "slideshow": {
     "slide_type": ""
    },
    "tags": []
   },
   "outputs": [
    {
     "name": "stdout",
     "output_type": "stream",
     "text": [
      "The sum of all part number is 75741499\n"
     ]
    }
   ],
   "source": [
    "# Part 2\n",
    "import re\n",
    "\n",
    "RE_FIND_NUMBER = re.compile(r\"\\d+\")\n",
    "\n",
    "with open('files/day3-input', encoding='utf-8') as input_file:\n",
    "    engine: tuple[str, ...] = tuple(line.strip() for line in input_file)\n",
    "\n",
    "# Compute boundaries\n",
    "ENGINE_HEIGHT = len(engine)\n",
    "ENGINE_WIDTH = len(engine[0])\n",
    "\n",
    "# This dictionary uses as key the position of a gear, and holds as value the list of part number adjacent to that gear\n",
    "gears: dict[tuple[int, int], list[int]] = dict()\n",
    "\n",
    "# Check every number for adjacent gear ; add it to gears dictionary\n",
    "for row, line in enumerate(engine):\n",
    "    for match in RE_FIND_NUMBER.finditer(line):\n",
    "        for i in range(max(0, row - 1), min(ENGINE_HEIGHT, row + 2)):\n",
    "            for j in range(max(0, match.start() - 1), min(ENGINE_WIDTH, match.end() + 1)):\n",
    "                if engine[i][j] == \"*\":\n",
    "                    gears[(i, j)] = gears.get((i, j), []) + [int(match.group(0))]\n",
    "\n",
    "\n",
    "print(f\"The sum of all part number is {sum(parts[0] * parts[1] for parts in gears.values() if len(parts) == 2)}\")"
   ]
  },
  {
   "cell_type": "markdown",
   "id": "e4a2ff6e-2d8a-49b1-97d2-1ac2d15b4897",
   "metadata": {},
   "source": [
    "## Day 4 - Scratchcards"
   ]
  },
  {
   "cell_type": "code",
   "execution_count": 23,
   "id": "cea2b7c6-fd8c-406b-9475-4a6d88fed9e7",
   "metadata": {},
   "outputs": [
    {
     "name": "stdout",
     "output_type": "stream",
     "text": [
      "The sum of all the scratchcards score is 21959\n"
     ]
    }
   ],
   "source": [
    "# Part 1\n",
    "import re\n",
    "\n",
    "RE_SCRATCHCARD = re.compile(r\"Card\\s+(\\d+):\\s*((?:\\d+\\s*)*) \\| ((?:\\s*\\d+)*)\\s*\")\n",
    "\n",
    "def compute_scratchcard(card: str) -> int:\n",
    "    \"\"\"Computes the score of a scratchcard given its string representation\"\"\"\n",
    "    card_id, winning_numbers, your_numbers = RE_SCRATCHCARD.match(card).groups()\n",
    "    return int(2**(sum(1 for number in your_numbers.split() if number and number in winning_numbers.split()) - 1))\n",
    "    \n",
    "with open('files/day4-input', encoding='utf-8') as input_file:\n",
    "    print(f\"The sum of all the scratchcards score is {sum(compute_scratchcard(line) for line in input_file)}\")\n",
    "    "
   ]
  },
  {
   "cell_type": "code",
   "execution_count": 40,
   "id": "e83e6ac2-323c-4767-b030-ceae0e1e02b9",
   "metadata": {},
   "outputs": [
    {
     "name": "stdout",
     "output_type": "stream",
     "text": [
      "The sum of all the scratchcards score is 5132675\n"
     ]
    }
   ],
   "source": [
    "# Part 2\n",
    "import re\n",
    "\n",
    "RE_SCRATCHCARD = re.compile(r\"Card\\s+(\\d+):\\s*((?:\\d+\\s*)*) \\| ((?:\\s*\\d+)*)\\s*\")\n",
    "\n",
    "# This dictionary stores the number of each scratchcard (<card ID>: <number of cards>)\n",
    "count_scratchcards: dict[int, int] = dict()\n",
    "\n",
    "def compute_scratchcard(card: str) -> None:\n",
    "    \"\"\"Computes the scratchcards won by a scratchcard given its string representation\"\"\"\n",
    "    card_id, winning_numbers, your_numbers = RE_SCRATCHCARD.match(card).groups()\n",
    "    card_id = int(card_id)\n",
    "    \n",
    "    # Compute score\n",
    "    score = sum(1 for number in your_numbers.split() if number and number in winning_numbers.split())\n",
    "    \n",
    "    # Update counts\n",
    "    count_scratchcards[card_id] = count_scratchcards.get(card_id, 0) + 1\n",
    "    for i in range(card_id + 1, card_id + score + 1):\n",
    "        count_scratchcards[i] = count_scratchcards.get(i, 0) + count_scratchcards[card_id]\n",
    "    \n",
    "with open('files/day4-input', encoding='utf-8') as input_file:\n",
    "    [compute_scratchcard(line) for line in input_file]\n",
    "    print(f\"The sum of all the scratchcards score is {sum(count for count in count_scratchcards.values())}\")\n",
    "    "
   ]
  },
  {
   "cell_type": "code",
   "execution_count": null,
   "id": "126a4560-8985-4907-9128-6e64ecd24b20",
   "metadata": {},
   "outputs": [],
   "source": []
  }
 ],
 "metadata": {
  "kernelspec": {
   "display_name": "Python 3 (ipykernel)",
   "language": "python",
   "name": "python3"
  },
  "language_info": {
   "codemirror_mode": {
    "name": "ipython",
    "version": 3
   },
   "file_extension": ".py",
   "mimetype": "text/x-python",
   "name": "python",
   "nbconvert_exporter": "python",
   "pygments_lexer": "ipython3",
   "version": "3.11.5"
  },
  "toc-autonumbering": true
 },
 "nbformat": 4,
 "nbformat_minor": 5
}
