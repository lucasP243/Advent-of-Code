{
 "cells": [
  {
   "cell_type": "code",
   "execution_count": 57,
   "id": "b26a2c6b-f483-418b-b965-a4fec2797452",
   "metadata": {},
   "outputs": [
    {
     "name": "stdout",
     "output_type": "stream",
     "text": [
      "[WinError 2] The system cannot find the file specified: 'AdventOfCode2023'\n",
      "D:\\Jupyter\\AdventOfCode2023\n"
     ]
    }
   ],
   "source": [
    "%cd AdventOfCode2023"
   ]
  },
  {
   "cell_type": "markdown",
   "id": "925ead75-9a2a-4c41-9bf6-4ca9e7f6dfb9",
   "metadata": {},
   "source": [
    "# Advent Of Code 2023\n",
    "## Day 1: Trebuchet?!"
   ]
  },
  {
   "cell_type": "code",
   "execution_count": 23,
   "id": "5087891d-f186-4711-912d-2c8711079196",
   "metadata": {},
   "outputs": [
    {
     "name": "stdout",
     "output_type": "stream",
     "text": [
      "The sum of all the calibration values is 55447\n"
     ]
    }
   ],
   "source": [
    "# Part 1\n",
    "def extract_number(from_line: str) -> int:\n",
    "    clean_line = ''.join(char for char in from_line if char.isdigit())\n",
    "    return int(clean_line[0] + clean_line[-1])\n",
    "\n",
    "with open('files/day1-input', 'r', encoding='utf-8') as input_file:\n",
    "    print(f\"The sum of all the calibration values is {sum(extract_number(line) for line in input_file)}\")"
   ]
  },
  {
   "cell_type": "code",
   "execution_count": 58,
   "id": "5deec0bf-0dee-45d1-a6b4-5b33321ef288",
   "metadata": {},
   "outputs": [
    {
     "name": "stdout",
     "output_type": "stream",
     "text": [
      "The sum of all the calibration values is 54706\n"
     ]
    }
   ],
   "source": [
    "# Part 2\n",
    "DIGIT_REPLACEMENT = {\n",
    "    'one': 1,\n",
    "    'two': 2,\n",
    "    'three': 3,\n",
    "    'four': 4,\n",
    "    'five': 5,\n",
    "    'six': 6,\n",
    "    'seven': 7,\n",
    "    'eight': 8,\n",
    "    'nine': 9\n",
    "}\n",
    "\n",
    "def extract_number(from_line: str) -> int:\n",
    "    \n",
    "    first_digit, last_digit = None, None\n",
    "\n",
    "    for (index, char) in enumerate(from_line):\n",
    "        \n",
    "        # Match regular digit\n",
    "        if char.isdigit():\n",
    "            last_digit = char\n",
    "        \n",
    "        else:\n",
    "            # Match spelled out digit\n",
    "            matches = [value for digit, value in DIGIT_REPLACEMENT.items() if from_line[index:].startswith(digit)]\n",
    "            if any(matches):\n",
    "                last_digit = str(matches[0])\n",
    "    \n",
    "        if first_digit is None:\n",
    "            first_digit = last_digit\n",
    "            \n",
    "    return int(first_digit + last_digit)\n",
    "\n",
    "with open('files/day1-input', 'r', encoding='utf-8') as input_file:\n",
    "    print(f\"The sum of all the calibration values is {sum(extract_number(line) for line in input_file)}\")"
   ]
  }
 ],
 "metadata": {
  "kernelspec": {
   "display_name": "Python 3 (ipykernel)",
   "language": "python",
   "name": "python3"
  },
  "language_info": {
   "codemirror_mode": {
    "name": "ipython",
    "version": 3
   },
   "file_extension": ".py",
   "mimetype": "text/x-python",
   "name": "python",
   "nbconvert_exporter": "python",
   "pygments_lexer": "ipython3",
   "version": "3.11.5"
  },
  "toc-autonumbering": true
 },
 "nbformat": 4,
 "nbformat_minor": 5
}
