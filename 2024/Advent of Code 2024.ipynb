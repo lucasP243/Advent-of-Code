{
 "cells": [
  {
   "cell_type": "markdown",
   "id": "ca48f21b-1781-4ce9-8dfc-19b9d1f70169",
   "metadata": {},
   "source": [
    "# Advent of Code 2024"
   ]
  },
  {
   "cell_type": "markdown",
   "id": "e09da9f4-42e5-42b2-ba06-b8675fa18ca3",
   "metadata": {
    "jp-MarkdownHeadingCollapsed": true
   },
   "source": [
    "## Day 1"
   ]
  },
  {
   "cell_type": "markdown",
   "id": "e8b8405c-69d9-48c5-9a28-704291aed782",
   "metadata": {},
   "source": [
    "### Part One"
   ]
  },
  {
   "cell_type": "code",
   "execution_count": 1,
   "id": "a91a6ae2-cf3d-4d21-ad25-a279294c1686",
   "metadata": {},
   "outputs": [
    {
     "name": "stdout",
     "output_type": "stream",
     "text": [
      "1341714\n"
     ]
    }
   ],
   "source": [
    "with open(\"input/01\", encoding=\"utf8\") as input_data:\n",
    "    list1, list2 = zip(*(line.split() for line in input_data))\n",
    "\n",
    "result: int = sum(abs(int(a) - int(b)) for a, b in zip(sorted(list1), sorted(list2)))\n",
    "\n",
    "print(result)"
   ]
  },
  {
   "cell_type": "markdown",
   "id": "34ae9f8b-5fc2-4977-8a44-508645dea8a6",
   "metadata": {},
   "source": [
    "### Part Two"
   ]
  },
  {
   "cell_type": "code",
   "execution_count": 2,
   "id": "6daeccfd-821a-4c54-8fe8-307c82c3a301",
   "metadata": {},
   "outputs": [
    {
     "name": "stdout",
     "output_type": "stream",
     "text": [
      "27384707\n"
     ]
    }
   ],
   "source": [
    "similarity = sum(int(a) * list2.count(a) for a in list1)\n",
    "\n",
    "print(similarity)"
   ]
  },
  {
   "cell_type": "markdown",
   "id": "f4d658e5-f8ed-492c-85f2-f0be426b40cd",
   "metadata": {
    "jp-MarkdownHeadingCollapsed": true
   },
   "source": [
    "## Day 2"
   ]
  },
  {
   "cell_type": "markdown",
   "id": "ed780a94-7562-4610-ae8f-2276a1d64c2a",
   "metadata": {},
   "source": [
    "### Part One"
   ]
  },
  {
   "cell_type": "code",
   "execution_count": 3,
   "id": "f7fe428e-2473-4212-b1e7-7a0af302b816",
   "metadata": {},
   "outputs": [
    {
     "name": "stdout",
     "output_type": "stream",
     "text": [
      "526\n"
     ]
    }
   ],
   "source": [
    "with open(\"input/02\", encoding=\"utf-8\") as input_data:\n",
    "    reports: list[list[int]] = [[int(x) for x in line.split()] for line in input_data]\n",
    "\n",
    "def check_safe_report(report: list[int]) -> bool:\n",
    "    variations: list[int] = [b - a for (a, b) in zip(report, report[1:])]\n",
    "\n",
    "    # Check if all variations are the same sign\n",
    "    # (only need to check if min and max are same sign)\n",
    "    same_direction: bool = min(variations) * max(variations) > 0\n",
    "\n",
    "    # Check if no variation exceeds 3 \n",
    "    no_big_variation: bool = all(abs(x) < 4 for x in variations)\n",
    "\n",
    "    return same_direction and no_big_variation\n",
    "\n",
    "safe_reports: int = sum(1 for report in reports if check_safe_report(report))\n",
    "\n",
    "print(safe_reports)"
   ]
  },
  {
   "cell_type": "markdown",
   "id": "27d72061-3403-4644-abc6-37e74ffd0577",
   "metadata": {},
   "source": [
    "### Part Two"
   ]
  },
  {
   "cell_type": "code",
   "execution_count": 4,
   "id": "e7894016-ff51-40e8-8ec5-01f5ca26afdc",
   "metadata": {},
   "outputs": [
    {
     "name": "stdout",
     "output_type": "stream",
     "text": [
      "566\n"
     ]
    }
   ],
   "source": [
    "def check_safe_report(report: list[int], retrying: bool = False) -> bool:\n",
    "\n",
    "    direction: int = report[1] - report[0]\n",
    "\n",
    "    for i, (a, b) in enumerate(zip(report, report[1:])):\n",
    "\n",
    "        if not 1 <= a - b <= 3:\n",
    "            return False if retrying else any((\n",
    "                check_safe_report(report[:i] + report[i+1:], retrying=True),\n",
    "                check_safe_report(report[:i+1] + report[i+2:], retrying=True)\n",
    "            ))\n",
    "\n",
    "    return True\n",
    "\n",
    "safe_reports: int = sum(1 for report in reports if check_safe_report(report) or check_safe_report(report[::-1]))\n",
    "\n",
    "print(safe_reports)"
   ]
  },
  {
   "cell_type": "markdown",
   "id": "0a5f350d-8eef-4b09-8f34-a078bdb8b67b",
   "metadata": {
    "jp-MarkdownHeadingCollapsed": true
   },
   "source": [
    "## Day 3"
   ]
  },
  {
   "cell_type": "markdown",
   "id": "a50cd9c7-aaf4-42b4-8090-7e3d333fbd16",
   "metadata": {},
   "source": [
    "### Part One"
   ]
  },
  {
   "cell_type": "code",
   "execution_count": 5,
   "id": "364abed5-43df-4039-8b83-4cc2ad9637dc",
   "metadata": {},
   "outputs": [
    {
     "name": "stdout",
     "output_type": "stream",
     "text": [
      "191183308\n"
     ]
    }
   ],
   "source": [
    "import re\n",
    "\n",
    "with open(\"input/03\", encoding=\"utf-8\") as input_data:\n",
    "    program: str = input_data.read()\n",
    "\n",
    "RE_MUL = re.compile(r\"mul\\((\\d{1,3}),(\\d{1,3})\\)\")\n",
    "\n",
    "result: int = sum(int(a) * int(b) for (a, b) in RE_MUL.findall(program))\n",
    "\n",
    "print(result)"
   ]
  },
  {
   "cell_type": "markdown",
   "id": "9235b835-e8e5-4306-82e6-0ab449d86660",
   "metadata": {},
   "source": [
    "### Part Two"
   ]
  },
  {
   "cell_type": "code",
   "execution_count": 6,
   "id": "697058f7-4907-4ae8-a4ab-17fd530bea92",
   "metadata": {},
   "outputs": [
    {
     "name": "stdout",
     "output_type": "stream",
     "text": [
      "92082041\n"
     ]
    }
   ],
   "source": [
    "RE_MUL_DO = re.compile(r\"(do\\(\\))|(don't\\(\\))|(?:mul\\((\\d{1,3}),(\\d{1,3})\\))\")\n",
    "\n",
    "result: int = 0\n",
    "enabled: bool = True\n",
    "\n",
    "for do, dont, a, b in RE_MUL_DO.findall(program):\n",
    "    if do:\n",
    "        enabled = True\n",
    "    elif dont:\n",
    "        enabled = False\n",
    "    elif a and b and enabled:\n",
    "        result += int(a) * int(b)\n",
    "\n",
    "print(result)"
   ]
  },
  {
   "cell_type": "markdown",
   "id": "07f6d3d6-ebfc-436c-8a1e-ce31d787e27b",
   "metadata": {
    "jp-MarkdownHeadingCollapsed": true
   },
   "source": [
    "## Day 4"
   ]
  },
  {
   "cell_type": "markdown",
   "id": "d051a0ce-9983-4784-8f10-175b12465536",
   "metadata": {},
   "source": [
    "### Part One"
   ]
  },
  {
   "cell_type": "code",
   "execution_count": 7,
   "id": "9c95f901-e3e9-4e16-89d3-5d9a8cbda53b",
   "metadata": {},
   "outputs": [
    {
     "name": "stdout",
     "output_type": "stream",
     "text": [
      "2496\n"
     ]
    }
   ],
   "source": [
    "from collections.abc import Iterable, Callable\n",
    "\n",
    "with open(\"input/04\", encoding=\"utf-8\") as input_data:\n",
    "    grid: list[list[str]] = [list(line) for line in input_data]\n",
    "\n",
    "def join(s: Iterable[str]) -> str: return \"\".join(s)\n",
    "\n",
    "directions: Callable[[int, int], tuple[int, int]] = [\n",
    "    lambda x, y, i: [x, y + i],\n",
    "    lambda x, y, i: [x, y - i],\n",
    "    lambda x, y, i: [x - i, y],\n",
    "    lambda x, y, i: [x - i, y + i],\n",
    "    lambda x, y, i: [x - i, y - i],\n",
    "    lambda x, y, i: [x + i, y],\n",
    "    lambda x, y, i: [x + i, y + i],\n",
    "    lambda x, y, i: [x + i, y - i],\n",
    "]\n",
    "\n",
    "total_occurences: int = 0\n",
    "\n",
    "for i, line in enumerate(grid):\n",
    "    for j, cell in enumerate(line):\n",
    "\n",
    "        # Processing cell (i, j): for each direction\n",
    "        # process 4 cells and check if the result makes 'XMAS'\n",
    "        for advance in directions:\n",
    "            result: str = join(\n",
    "                grid[x][y]\n",
    "                for k in range(4)\n",
    "                if 0 <= (x := advance(i, j, k)[0]) < len(grid)\n",
    "                and 0 <= (y := advance(i, j, k)[1]) < len(line)\n",
    "            )\n",
    "            if result == \"XMAS\":\n",
    "                total_occurences += 1\n",
    "\n",
    "print(total_occurences)"
   ]
  },
  {
   "cell_type": "markdown",
   "id": "4a843d9d-3a2a-4975-a4b8-eee1059f5b5c",
   "metadata": {},
   "source": [
    "### Part Two"
   ]
  },
  {
   "cell_type": "code",
   "execution_count": 8,
   "id": "ace3b824-4076-4155-a078-8b129b9a45b4",
   "metadata": {},
   "outputs": [
    {
     "name": "stdout",
     "output_type": "stream",
     "text": [
      "1967\n"
     ]
    }
   ],
   "source": [
    "total_occurences: int = 0\n",
    "\n",
    "# Iterate over grid, don't check edge cells\n",
    "for i, line in enumerate(grid[1:-1], start=1):\n",
    "    for j, cell in enumerate(line[1:-1], start=1):\n",
    "\n",
    "        if not cell == 'A': continue # Skip iteration\n",
    "\n",
    "        # When a A is found, check if the two opposite corners makes \"MAS\" or \"SAM\"\n",
    "        up_diag = join([grid[i + 1][j - 1], cell, grid[i - 1][j + 1]])\n",
    "        down_diag = join([grid[i - 1][j - 1], cell, grid[i + 1][j + 1]])\n",
    "        \n",
    "        if up_diag in (\"MAS\", \"SAM\") and down_diag in (\"MAS\", \"SAM\"):\n",
    "            total_occurences += 1\n",
    "\n",
    "print(total_occurences)"
   ]
  },
  {
   "cell_type": "markdown",
   "id": "1cfa7a4e-9338-4f59-8e4d-f4ecd1bb6852",
   "metadata": {},
   "source": [
    "## Day 5"
   ]
  },
  {
   "cell_type": "markdown",
   "id": "8699f73e-ee19-4372-a70b-483a8a199aa5",
   "metadata": {},
   "source": [
    "### Part One"
   ]
  },
  {
   "cell_type": "code",
   "execution_count": 9,
   "id": "f2baa936-13e8-4d71-9f90-d36cb3383c07",
   "metadata": {},
   "outputs": [
    {
     "name": "stdout",
     "output_type": "stream",
     "text": [
      "5064\n"
     ]
    }
   ],
   "source": [
    "from collections import defaultdict, namedtuple\n",
    "\n",
    "# Page ordering rules: {page_number -> ([pages_before], [pages_after])}\n",
    "# I suspect pages_after won't be needed, might delete later\n",
    "page_rules = namedtuple(\"page_rules\", [\"pages_before\", \"pages_after\"])\n",
    "ordering_rules: dict[int, tuple[list[int], list[int]]] = defaultdict(lambda: page_rules(set(), set()))\n",
    "\n",
    "with open(\"input/05\", encoding=\"utf-8\") as input_data:\n",
    "\n",
    "    # Parsing page ordering rules\n",
    "    while (line := input_data.readline()[:-1]):\n",
    "        (page_before, page_after) = [int(x) for x in line.split(\"|\")]\n",
    "        ordering_rules[page_before].pages_after.add(page_after)\n",
    "        ordering_rules[page_after].pages_before.add(page_before)\n",
    "\n",
    "    # Parsing page updates\n",
    "    updates: list[list[int]] = [[int(page) for page in line.split(\",\")] for line in input_data]\n",
    "\n",
    "def check_update(update: list[int]) -> bool:\n",
    "    \"\"\"\n",
    "    Checks if the update is printed correctly according to the page ordering rules.\n",
    "    \"\"\"\n",
    "    return all(\n",
    "        not any(later_page in ordering_rules[page].pages_before for later_page in update[i:])\n",
    "        for (i, page) in enumerate(update)\n",
    "    )\n",
    "\n",
    "result = sum(update[len(update)//2] for update in updates if check_update(update))\n",
    "\n",
    "print(result)"
   ]
  },
  {
   "cell_type": "markdown",
   "id": "e27fc21c-7099-480b-9479-2939f60f9272",
   "metadata": {},
   "source": [
    "### Part Two"
   ]
  },
  {
   "cell_type": "code",
   "execution_count": 10,
   "id": "fcdf3de9-d836-486b-bf47-2ce38c95fc7d",
   "metadata": {},
   "outputs": [
    {
     "name": "stdout",
     "output_type": "stream",
     "text": [
      "5152\n"
     ]
    }
   ],
   "source": [
    "from functools import cmp_to_key\n",
    "\n",
    "incorrect_updates = [update for update in updates if not check_update(update)]\n",
    "\n",
    "def sort_pages(page1: int, page2: int) -> int:\n",
    "    \"\"\"\n",
    "    Comparator implementation for sorting the pages\n",
    "    based on their ordering rules.\n",
    "    \"\"\"\n",
    "    return -1 if page1 in ordering_rules[page2].pages_before else 1\n",
    "\n",
    "result = sum(sorted(update, key=cmp_to_key(sort_pages))[len(update)//2] for update in incorrect_updates)\n",
    "\n",
    "print(result)"
   ]
  }
 ],
 "metadata": {
  "kernelspec": {
   "display_name": "Python 3 (ipykernel)",
   "language": "python",
   "name": "python3"
  },
  "language_info": {
   "codemirror_mode": {
    "name": "ipython",
    "version": 3
   },
   "file_extension": ".py",
   "mimetype": "text/x-python",
   "name": "python",
   "nbconvert_exporter": "python",
   "pygments_lexer": "ipython3",
   "version": "3.13.0"
  }
 },
 "nbformat": 4,
 "nbformat_minor": 5
}
