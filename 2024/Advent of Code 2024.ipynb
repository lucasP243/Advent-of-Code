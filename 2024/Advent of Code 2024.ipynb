{
 "cells": [
  {
   "cell_type": "markdown",
   "id": "ca48f21b-1781-4ce9-8dfc-19b9d1f70169",
   "metadata": {},
   "source": [
    "# Advent of Code 2024"
   ]
  },
  {
   "cell_type": "markdown",
   "id": "e09da9f4-42e5-42b2-ba06-b8675fa18ca3",
   "metadata": {
    "jp-MarkdownHeadingCollapsed": true
   },
   "source": [
    "## Day 1"
   ]
  },
  {
   "cell_type": "markdown",
   "id": "e8b8405c-69d9-48c5-9a28-704291aed782",
   "metadata": {},
   "source": [
    "### Part One"
   ]
  },
  {
   "cell_type": "code",
   "execution_count": 1,
   "id": "a91a6ae2-cf3d-4d21-ad25-a279294c1686",
   "metadata": {},
   "outputs": [
    {
     "name": "stdout",
     "output_type": "stream",
     "text": [
      "1341714\n"
     ]
    }
   ],
   "source": [
    "with open(\"input/1\", encoding=\"utf8\") as input_data:\n",
    "    list1, list2 = zip(*(line.split() for line in input_data))\n",
    "\n",
    "result: int = sum(abs(int(a) - int(b)) for a, b in zip(sorted(list1), sorted(list2)))\n",
    "\n",
    "print(result)"
   ]
  },
  {
   "cell_type": "markdown",
   "id": "34ae9f8b-5fc2-4977-8a44-508645dea8a6",
   "metadata": {},
   "source": [
    "### Part Two"
   ]
  },
  {
   "cell_type": "code",
   "execution_count": 2,
   "id": "6daeccfd-821a-4c54-8fe8-307c82c3a301",
   "metadata": {},
   "outputs": [
    {
     "name": "stdout",
     "output_type": "stream",
     "text": [
      "27384707\n"
     ]
    }
   ],
   "source": [
    "similarity = sum(int(a) * list2.count(a) for a in list1)\n",
    "\n",
    "print(similarity)"
   ]
  },
  {
   "cell_type": "markdown",
   "id": "f4d658e5-f8ed-492c-85f2-f0be426b40cd",
   "metadata": {
    "jp-MarkdownHeadingCollapsed": true
   },
   "source": [
    "## Day 2"
   ]
  },
  {
   "cell_type": "markdown",
   "id": "ed780a94-7562-4610-ae8f-2276a1d64c2a",
   "metadata": {},
   "source": [
    "### Part One"
   ]
  },
  {
   "cell_type": "code",
   "execution_count": 3,
   "id": "f7fe428e-2473-4212-b1e7-7a0af302b816",
   "metadata": {},
   "outputs": [
    {
     "name": "stdout",
     "output_type": "stream",
     "text": [
      "526\n"
     ]
    }
   ],
   "source": [
    "with open(\"input/2\", encoding=\"utf-8\") as input_data:\n",
    "    reports: list[list[int]] = [[int(x) for x in line.split()] for line in input_data]\n",
    "\n",
    "def check_safe_report(report: list[int]) -> bool:\n",
    "    variations: list[int] = [b - a for (a, b) in zip(report, report[1:])]\n",
    "\n",
    "    # Check if all variations are the same sign\n",
    "    # (only need to check if min and max are same sign)\n",
    "    same_direction: bool = min(variations) * max(variations) > 0\n",
    "\n",
    "    # Check if no variation exceeds 3 \n",
    "    no_big_variation: bool = all(abs(x) < 4 for x in variations)\n",
    "\n",
    "    return same_direction and no_big_variation\n",
    "\n",
    "safe_reports: int = sum(1 for report in reports if check_safe_report(report))\n",
    "\n",
    "print(safe_reports)"
   ]
  },
  {
   "cell_type": "markdown",
   "id": "27d72061-3403-4644-abc6-37e74ffd0577",
   "metadata": {},
   "source": [
    "### Part Two"
   ]
  },
  {
   "cell_type": "code",
   "execution_count": 4,
   "id": "e7894016-ff51-40e8-8ec5-01f5ca26afdc",
   "metadata": {},
   "outputs": [
    {
     "name": "stdout",
     "output_type": "stream",
     "text": [
      "566\n"
     ]
    }
   ],
   "source": [
    "def check_safe_report(report: list[int], retrying: bool = False) -> bool:\n",
    "\n",
    "    direction: int = report[1] - report[0]\n",
    "\n",
    "    for i, (a, b) in enumerate(zip(report, report[1:])):\n",
    "\n",
    "        if not 1 <= a - b <= 3:\n",
    "            return False if retrying else any((\n",
    "                check_safe_report(report[:i] + report[i+1:], retrying=True),\n",
    "                check_safe_report(report[:i+1] + report[i+2:], retrying=True)\n",
    "            ))\n",
    "\n",
    "    return True\n",
    "\n",
    "safe_reports: int = sum(1 for report in reports if check_safe_report(report) or check_safe_report(report[::-1]))\n",
    "\n",
    "print(safe_reports)"
   ]
  },
  {
   "cell_type": "markdown",
   "id": "0a5f350d-8eef-4b09-8f34-a078bdb8b67b",
   "metadata": {},
   "source": [
    "## Day 3"
   ]
  },
  {
   "cell_type": "markdown",
   "id": "a50cd9c7-aaf4-42b4-8090-7e3d333fbd16",
   "metadata": {},
   "source": [
    "### Part One"
   ]
  },
  {
   "cell_type": "code",
   "execution_count": 5,
   "id": "364abed5-43df-4039-8b83-4cc2ad9637dc",
   "metadata": {},
   "outputs": [
    {
     "name": "stdout",
     "output_type": "stream",
     "text": [
      "191183308\n"
     ]
    }
   ],
   "source": [
    "import re\n",
    "\n",
    "with open(\"input/3\", encoding=\"utf-8\") as input_data:\n",
    "    program: str = input_data.read()\n",
    "\n",
    "RE_MUL = re.compile(r\"mul\\((\\d{1,3}),(\\d{1,3})\\)\")\n",
    "\n",
    "result: int = sum(int(a) * int(b) for (a, b) in RE_MUL.findall(program))\n",
    "\n",
    "print(result)"
   ]
  },
  {
   "cell_type": "markdown",
   "id": "9235b835-e8e5-4306-82e6-0ab449d86660",
   "metadata": {},
   "source": [
    "### Part Two"
   ]
  },
  {
   "cell_type": "code",
   "execution_count": 6,
   "id": "697058f7-4907-4ae8-a4ab-17fd530bea92",
   "metadata": {},
   "outputs": [
    {
     "name": "stdout",
     "output_type": "stream",
     "text": [
      "92082041\n"
     ]
    }
   ],
   "source": [
    "RE_MUL_DO = re.compile(r\"(do\\(\\))|(don't\\(\\))|(?:mul\\((\\d{1,3}),(\\d{1,3})\\))\")\n",
    "\n",
    "result: int = 0\n",
    "enabled: bool = True\n",
    "\n",
    "for do, dont, a, b in RE_MUL_DO.findall(program):\n",
    "    if do:\n",
    "        enabled = True\n",
    "    elif dont:\n",
    "        enabled = False\n",
    "    elif a and b and enabled:\n",
    "        result += int(a) * int(b)\n",
    "\n",
    "print(result)"
   ]
  }
 ],
 "metadata": {
  "kernelspec": {
   "display_name": "Python 3 (ipykernel)",
   "language": "python",
   "name": "python3"
  },
  "language_info": {
   "codemirror_mode": {
    "name": "ipython",
    "version": 3
   },
   "file_extension": ".py",
   "mimetype": "text/x-python",
   "name": "python",
   "nbconvert_exporter": "python",
   "pygments_lexer": "ipython3",
   "version": "3.13.0"
  }
 },
 "nbformat": 4,
 "nbformat_minor": 5
}
