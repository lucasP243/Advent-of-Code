{
 "cells": [
  {
   "cell_type": "markdown",
   "id": "ca48f21b-1781-4ce9-8dfc-19b9d1f70169",
   "metadata": {},
   "source": [
    "# Advent of Code 2024"
   ]
  },
  {
   "cell_type": "markdown",
   "id": "e09da9f4-42e5-42b2-ba06-b8675fa18ca3",
   "metadata": {
    "jp-MarkdownHeadingCollapsed": true
   },
   "source": [
    "## Day 1"
   ]
  },
  {
   "cell_type": "markdown",
   "id": "e8b8405c-69d9-48c5-9a28-704291aed782",
   "metadata": {},
   "source": [
    "### Part One"
   ]
  },
  {
   "cell_type": "code",
   "execution_count": 1,
   "id": "a91a6ae2-cf3d-4d21-ad25-a279294c1686",
   "metadata": {},
   "outputs": [
    {
     "name": "stdout",
     "output_type": "stream",
     "text": [
      "1341714\n"
     ]
    }
   ],
   "source": [
    "with open(\"input/01\", encoding=\"utf8\") as input_data:\n",
    "    list1, list2 = zip(*(line.split() for line in input_data))\n",
    "\n",
    "result: int = sum(abs(int(a) - int(b)) for a, b in zip(sorted(list1), sorted(list2)))\n",
    "\n",
    "print(result)"
   ]
  },
  {
   "cell_type": "markdown",
   "id": "34ae9f8b-5fc2-4977-8a44-508645dea8a6",
   "metadata": {},
   "source": [
    "### Part Two"
   ]
  },
  {
   "cell_type": "code",
   "execution_count": 2,
   "id": "6daeccfd-821a-4c54-8fe8-307c82c3a301",
   "metadata": {},
   "outputs": [
    {
     "name": "stdout",
     "output_type": "stream",
     "text": [
      "27384707\n"
     ]
    }
   ],
   "source": [
    "similarity = sum(int(a) * list2.count(a) for a in list1)\n",
    "\n",
    "print(similarity)"
   ]
  },
  {
   "cell_type": "markdown",
   "id": "f4d658e5-f8ed-492c-85f2-f0be426b40cd",
   "metadata": {
    "jp-MarkdownHeadingCollapsed": true
   },
   "source": [
    "## Day 2"
   ]
  },
  {
   "cell_type": "markdown",
   "id": "ed780a94-7562-4610-ae8f-2276a1d64c2a",
   "metadata": {},
   "source": [
    "### Part One"
   ]
  },
  {
   "cell_type": "code",
   "execution_count": 3,
   "id": "f7fe428e-2473-4212-b1e7-7a0af302b816",
   "metadata": {},
   "outputs": [
    {
     "name": "stdout",
     "output_type": "stream",
     "text": [
      "526\n"
     ]
    }
   ],
   "source": [
    "with open(\"input/02\", encoding=\"utf-8\") as input_data:\n",
    "    reports: list[list[int]] = [[int(x) for x in line.split()] for line in input_data]\n",
    "\n",
    "def check_safe_report(report: list[int]) -> bool:\n",
    "    variations: list[int] = [b - a for (a, b) in zip(report, report[1:])]\n",
    "\n",
    "    # Check if all variations are the same sign\n",
    "    # (only need to check if min and max are same sign)\n",
    "    same_direction: bool = min(variations) * max(variations) > 0\n",
    "\n",
    "    # Check if no variation exceeds 3 \n",
    "    no_big_variation: bool = all(abs(x) < 4 for x in variations)\n",
    "\n",
    "    return same_direction and no_big_variation\n",
    "\n",
    "safe_reports: int = sum(1 for report in reports if check_safe_report(report))\n",
    "\n",
    "print(safe_reports)"
   ]
  },
  {
   "cell_type": "markdown",
   "id": "27d72061-3403-4644-abc6-37e74ffd0577",
   "metadata": {},
   "source": [
    "### Part Two"
   ]
  },
  {
   "cell_type": "code",
   "execution_count": 4,
   "id": "e7894016-ff51-40e8-8ec5-01f5ca26afdc",
   "metadata": {},
   "outputs": [
    {
     "name": "stdout",
     "output_type": "stream",
     "text": [
      "566\n"
     ]
    }
   ],
   "source": [
    "def check_safe_report(report: list[int], retrying: bool = False) -> bool:\n",
    "\n",
    "    direction: int = report[1] - report[0]\n",
    "\n",
    "    for i, (a, b) in enumerate(zip(report, report[1:])):\n",
    "\n",
    "        if not 1 <= a - b <= 3:\n",
    "            return False if retrying else any((\n",
    "                check_safe_report(report[:i] + report[i+1:], retrying=True),\n",
    "                check_safe_report(report[:i+1] + report[i+2:], retrying=True)\n",
    "            ))\n",
    "\n",
    "    return True\n",
    "\n",
    "safe_reports: int = sum(1 for report in reports if check_safe_report(report) or check_safe_report(report[::-1]))\n",
    "\n",
    "print(safe_reports)"
   ]
  },
  {
   "cell_type": "markdown",
   "id": "0a5f350d-8eef-4b09-8f34-a078bdb8b67b",
   "metadata": {
    "jp-MarkdownHeadingCollapsed": true
   },
   "source": [
    "## Day 3"
   ]
  },
  {
   "cell_type": "markdown",
   "id": "a50cd9c7-aaf4-42b4-8090-7e3d333fbd16",
   "metadata": {},
   "source": [
    "### Part One"
   ]
  },
  {
   "cell_type": "code",
   "execution_count": 5,
   "id": "364abed5-43df-4039-8b83-4cc2ad9637dc",
   "metadata": {},
   "outputs": [
    {
     "name": "stdout",
     "output_type": "stream",
     "text": [
      "191183308\n"
     ]
    }
   ],
   "source": [
    "import re\n",
    "\n",
    "with open(\"input/03\", encoding=\"utf-8\") as input_data:\n",
    "    program: str = input_data.read()\n",
    "\n",
    "RE_MUL = re.compile(r\"mul\\((\\d{1,3}),(\\d{1,3})\\)\")\n",
    "\n",
    "result: int = sum(int(a) * int(b) for (a, b) in RE_MUL.findall(program))\n",
    "\n",
    "print(result)"
   ]
  },
  {
   "cell_type": "markdown",
   "id": "9235b835-e8e5-4306-82e6-0ab449d86660",
   "metadata": {},
   "source": [
    "### Part Two"
   ]
  },
  {
   "cell_type": "code",
   "execution_count": 6,
   "id": "697058f7-4907-4ae8-a4ab-17fd530bea92",
   "metadata": {},
   "outputs": [
    {
     "name": "stdout",
     "output_type": "stream",
     "text": [
      "92082041\n"
     ]
    }
   ],
   "source": [
    "RE_MUL_DO = re.compile(r\"(do\\(\\))|(don't\\(\\))|(?:mul\\((\\d{1,3}),(\\d{1,3})\\))\")\n",
    "\n",
    "result: int = 0\n",
    "enabled: bool = True\n",
    "\n",
    "for do, dont, a, b in RE_MUL_DO.findall(program):\n",
    "    if do:\n",
    "        enabled = True\n",
    "    elif dont:\n",
    "        enabled = False\n",
    "    elif a and b and enabled:\n",
    "        result += int(a) * int(b)\n",
    "\n",
    "print(result)"
   ]
  },
  {
   "cell_type": "markdown",
   "id": "07f6d3d6-ebfc-436c-8a1e-ce31d787e27b",
   "metadata": {
    "jp-MarkdownHeadingCollapsed": true
   },
   "source": [
    "## Day 4"
   ]
  },
  {
   "cell_type": "markdown",
   "id": "d051a0ce-9983-4784-8f10-175b12465536",
   "metadata": {},
   "source": [
    "### Part One"
   ]
  },
  {
   "cell_type": "code",
   "execution_count": 7,
   "id": "9c95f901-e3e9-4e16-89d3-5d9a8cbda53b",
   "metadata": {},
   "outputs": [
    {
     "name": "stdout",
     "output_type": "stream",
     "text": [
      "2496\n"
     ]
    }
   ],
   "source": [
    "from collections.abc import Iterable, Callable\n",
    "\n",
    "with open(\"input/04\", encoding=\"utf-8\") as input_data:\n",
    "    grid: list[list[str]] = [list(line) for line in input_data]\n",
    "\n",
    "def join(s: Iterable[str]) -> str: return \"\".join(s)\n",
    "\n",
    "directions: Callable[[int, int], tuple[int, int]] = [\n",
    "    lambda x, y, i: [x, y + i],\n",
    "    lambda x, y, i: [x, y - i],\n",
    "    lambda x, y, i: [x - i, y],\n",
    "    lambda x, y, i: [x - i, y + i],\n",
    "    lambda x, y, i: [x - i, y - i],\n",
    "    lambda x, y, i: [x + i, y],\n",
    "    lambda x, y, i: [x + i, y + i],\n",
    "    lambda x, y, i: [x + i, y - i],\n",
    "]\n",
    "\n",
    "total_occurences: int = 0\n",
    "\n",
    "for i, line in enumerate(grid):\n",
    "    for j, cell in enumerate(line):\n",
    "\n",
    "        # Processing cell (i, j): for each direction\n",
    "        # process 4 cells and check if the result makes 'XMAS'\n",
    "        for advance in directions:\n",
    "            result: str = join(\n",
    "                grid[x][y]\n",
    "                for k in range(4)\n",
    "                if 0 <= (x := advance(i, j, k)[0]) < len(grid)\n",
    "                and 0 <= (y := advance(i, j, k)[1]) < len(line)\n",
    "            )\n",
    "            if result == \"XMAS\":\n",
    "                total_occurences += 1\n",
    "\n",
    "print(total_occurences)"
   ]
  },
  {
   "cell_type": "markdown",
   "id": "4a843d9d-3a2a-4975-a4b8-eee1059f5b5c",
   "metadata": {},
   "source": [
    "### Part Two"
   ]
  },
  {
   "cell_type": "code",
   "execution_count": 8,
   "id": "ace3b824-4076-4155-a078-8b129b9a45b4",
   "metadata": {},
   "outputs": [
    {
     "name": "stdout",
     "output_type": "stream",
     "text": [
      "1967\n"
     ]
    }
   ],
   "source": [
    "total_occurences: int = 0\n",
    "\n",
    "# Iterate over grid, don't check edge cells\n",
    "for i, line in enumerate(grid[1:-1], start=1):\n",
    "    for j, cell in enumerate(line[1:-1], start=1):\n",
    "\n",
    "        if not cell == 'A': continue # Skip iteration\n",
    "\n",
    "        # When a A is found, check if the two opposite corners makes \"MAS\" or \"SAM\"\n",
    "        up_diag = join([grid[i + 1][j - 1], cell, grid[i - 1][j + 1]])\n",
    "        down_diag = join([grid[i - 1][j - 1], cell, grid[i + 1][j + 1]])\n",
    "        \n",
    "        if up_diag in (\"MAS\", \"SAM\") and down_diag in (\"MAS\", \"SAM\"):\n",
    "            total_occurences += 1\n",
    "\n",
    "print(total_occurences)"
   ]
  },
  {
   "cell_type": "markdown",
   "id": "1cfa7a4e-9338-4f59-8e4d-f4ecd1bb6852",
   "metadata": {
    "jp-MarkdownHeadingCollapsed": true
   },
   "source": [
    "## Day 5"
   ]
  },
  {
   "cell_type": "markdown",
   "id": "8699f73e-ee19-4372-a70b-483a8a199aa5",
   "metadata": {},
   "source": [
    "### Part One"
   ]
  },
  {
   "cell_type": "code",
   "execution_count": 9,
   "id": "f2baa936-13e8-4d71-9f90-d36cb3383c07",
   "metadata": {},
   "outputs": [
    {
     "name": "stdout",
     "output_type": "stream",
     "text": [
      "5064\n"
     ]
    }
   ],
   "source": [
    "from collections import defaultdict, namedtuple\n",
    "\n",
    "# Page ordering rules: {page_number -> ([pages_before], [pages_after])}\n",
    "# I suspect pages_after won't be needed, might delete later\n",
    "page_rules = namedtuple(\"page_rules\", [\"pages_before\", \"pages_after\"])\n",
    "ordering_rules: dict[int, tuple[list[int], list[int]]] = defaultdict(lambda: page_rules(set(), set()))\n",
    "\n",
    "with open(\"input/05\", encoding=\"utf-8\") as input_data:\n",
    "\n",
    "    # Parsing page ordering rules\n",
    "    while (line := input_data.readline()[:-1]):\n",
    "        (page_before, page_after) = [int(x) for x in line.split(\"|\")]\n",
    "        ordering_rules[page_before].pages_after.add(page_after)\n",
    "        ordering_rules[page_after].pages_before.add(page_before)\n",
    "\n",
    "    # Parsing page updates\n",
    "    updates: list[list[int]] = [[int(page) for page in line.split(\",\")] for line in input_data]\n",
    "\n",
    "def check_update(update: list[int]) -> bool:\n",
    "    \"\"\"\n",
    "    Checks if the update is printed correctly according to the page ordering rules.\n",
    "    \"\"\"\n",
    "    return all(\n",
    "        not any(later_page in ordering_rules[page].pages_before for later_page in update[i:])\n",
    "        for (i, page) in enumerate(update)\n",
    "    )\n",
    "\n",
    "result = sum(update[len(update)//2] for update in updates if check_update(update))\n",
    "\n",
    "print(result)"
   ]
  },
  {
   "cell_type": "markdown",
   "id": "e27fc21c-7099-480b-9479-2939f60f9272",
   "metadata": {},
   "source": [
    "### Part Two"
   ]
  },
  {
   "cell_type": "code",
   "execution_count": 10,
   "id": "fcdf3de9-d836-486b-bf47-2ce38c95fc7d",
   "metadata": {},
   "outputs": [
    {
     "name": "stdout",
     "output_type": "stream",
     "text": [
      "5152\n"
     ]
    }
   ],
   "source": [
    "from functools import cmp_to_key\n",
    "\n",
    "incorrect_updates = [update for update in updates if not check_update(update)]\n",
    "\n",
    "def sort_pages(page1: int, page2: int) -> int:\n",
    "    \"\"\"\n",
    "    Comparator implementation for sorting the pages\n",
    "    based on their ordering rules.\n",
    "    \"\"\"\n",
    "    return -1 if page1 in ordering_rules[page2].pages_before else 1\n",
    "\n",
    "result = sum(sorted(update, key=cmp_to_key(sort_pages))[len(update)//2] for update in incorrect_updates)\n",
    "\n",
    "print(result)"
   ]
  },
  {
   "cell_type": "markdown",
   "id": "4012512a-7796-478c-ae97-d8373fe86677",
   "metadata": {
    "jp-MarkdownHeadingCollapsed": true
   },
   "source": [
    "## Day 6"
   ]
  },
  {
   "cell_type": "markdown",
   "id": "bf5bdd0c-e5bf-4150-8957-01a8bcf84e06",
   "metadata": {},
   "source": [
    "### Part One"
   ]
  },
  {
   "cell_type": "code",
   "execution_count": 11,
   "id": "80629ebb-8c74-47b2-9031-17d5cf72677f",
   "metadata": {},
   "outputs": [
    {
     "name": "stdout",
     "output_type": "stream",
     "text": [
      "5101\n"
     ]
    }
   ],
   "source": [
    "from __future__ import annotations\n",
    "\n",
    "from itertools import cycle\n",
    "from dataclasses import dataclass\n",
    "from collections.abc import Iterable\n",
    "\n",
    "@dataclass(frozen=True)\n",
    "class Vec2D:\n",
    "    x: int\n",
    "    y: int\n",
    "\n",
    "@dataclass\n",
    "class Entity:\n",
    "    position: Vec2D\n",
    "    direction: Vec2D\n",
    "\n",
    "obstacles: set[tuple[int, int]] = set()\n",
    "\n",
    "# Parse the guard and obstacles positions from input\n",
    "with open(\"input/06\", encoding=\"utf-8\") as input_data:\n",
    "    for (i, line) in enumerate(input_data):\n",
    "        for (j, tile) in enumerate(line):\n",
    "\n",
    "            if tile == \"#\":\n",
    "                obstacles.add(Vec2D(i, j))\n",
    "\n",
    "            elif tile in [\"^\", \">\", \"v\", \"<\"]:\n",
    "                guard = Entity(\n",
    "                    position = Vec2D(i, j),\n",
    "                    direction = {\n",
    "                        \"^\": Vec2D(-1, 0),\n",
    "                        \">\": Vec2D(0, 1),\n",
    "                        \"v\": Vec2D(1, 0),\n",
    "                        \"<\": Vec2D(0, -1),\n",
    "                    }[tile]\n",
    "                )\n",
    "    (GRID_HEIGHT, GRID_WIDTH) = (i + 1, j + 1)\n",
    "\n",
    "guard_directions: Iterable[tuple[int, int]] = cycle([\n",
    "    Vec2D(-1, 0), # North\n",
    "    Vec2D(0, 1), # West\n",
    "    Vec2D(1, 0), # South\n",
    "    Vec2D(0, -1), # East\n",
    "])\n",
    "\n",
    "# Cycle through the directions until reaching the guard's current direction\n",
    "while next(guard_directions) != guard.direction:\n",
    "    pass\n",
    "\n",
    "visited_tiles: set[Vec2D] = set([guard.position])\n",
    "\n",
    "while 0 <= guard.position.x < GRID_HEIGHT and 0 <= guard.position.y < GRID_WIDTH:\n",
    "\n",
    "    new_pos = Vec2D(\n",
    "        x = guard.position.x + guard.direction.x,\n",
    "        y = guard.position.y + guard.direction.y\n",
    "    )\n",
    "\n",
    "    if new_pos in obstacles:\n",
    "        guard.direction = next(guard_directions)\n",
    "    else:\n",
    "        guard.position = new_pos\n",
    "        visited_tiles.add(new_pos)\n",
    "\n",
    "print(len(visited_tiles) - 1)"
   ]
  },
  {
   "cell_type": "markdown",
   "id": "7fe19af4-af1e-4368-a810-618d8f5607fe",
   "metadata": {},
   "source": [
    "### Part Two"
   ]
  },
  {
   "cell_type": "code",
   "execution_count": 12,
   "id": "7c772c81-1b0d-4eec-a485-37a5f057ec1e",
   "metadata": {},
   "outputs": [
    {
     "name": "stdout",
     "output_type": "stream",
     "text": [
      "1951\n"
     ]
    }
   ],
   "source": [
    "from copy import deepcopy\n",
    "\n",
    "# Re-parse the guard and obstacles positions from input\n",
    "with open(\"input/06\", encoding=\"utf-8\") as input_data:\n",
    "    for (i, line) in enumerate(input_data):\n",
    "        for (j, tile) in enumerate(line):\n",
    "\n",
    "            if tile in [\"^\", \">\", \"v\", \"<\"]:\n",
    "                guard = Entity(\n",
    "                    position = Vec2D(i, j),\n",
    "                    direction = {\n",
    "                        \"^\": Vec2D(-1, 0),\n",
    "                        \">\": Vec2D(0, 1),\n",
    "                        \"v\": Vec2D(1, 0),\n",
    "                        \"<\": Vec2D(0, -1),\n",
    "                    }[tile]\n",
    "                )\n",
    "\n",
    "\n",
    "def is_guard_stuck(new_obstacle: Vec2D) -> bool:\n",
    "\n",
    "    simulated_guard: Entity = deepcopy(guard)\n",
    "    \n",
    "    # Cycle through the directions until reaching the guard's current direction\n",
    "    while next(guard_directions) != simulated_guard.direction:\n",
    "        pass\n",
    "\n",
    "    new_obstacles: set[Vec2D] = obstacles | set([new_obstacle])\n",
    "\n",
    "    visited_tiles: set[tuple[Vec2D, Vec2D]] = set([(simulated_guard.position, simulated_guard.direction)])\n",
    "\n",
    "    while 0 <= simulated_guard.position.x < GRID_HEIGHT and 0 <= simulated_guard.position.y < GRID_WIDTH:\n",
    "    \n",
    "        new_pos = Vec2D(\n",
    "            x = simulated_guard.position.x + simulated_guard.direction.x,\n",
    "            y = simulated_guard.position.y + simulated_guard.direction.y\n",
    "        )\n",
    "    \n",
    "        if new_pos in new_obstacles:\n",
    "            simulated_guard.direction = next(guard_directions)\n",
    "        else:\n",
    "            simulated_guard.position = new_pos\n",
    "\n",
    "            record = (new_pos, simulated_guard.direction)\n",
    "            if record in visited_tiles:\n",
    "                return True # The guard is stuck\n",
    "            else:\n",
    "                visited_tiles.add(record)\n",
    "\n",
    "    return False # The guard managed to escape the lab\n",
    "\n",
    "# Semi bruteforce method: try to add an obstacle on each of the 5101\n",
    "# visited tiles calculated for part one (except the guard's starting position)\n",
    "result: int = sum(\n",
    "    1\n",
    "    for position in visited_tiles # From Part One\n",
    "    if position != guard.position\n",
    "    and is_guard_stuck(position)\n",
    ")\n",
    "\n",
    "print(result)"
   ]
  },
  {
   "cell_type": "markdown",
   "id": "17a5be96-9101-4851-994e-e8bb871bbfca",
   "metadata": {},
   "source": [
    "## Day 7"
   ]
  },
  {
   "cell_type": "markdown",
   "id": "bc6f6841-9135-4380-82d5-3bace413c5c8",
   "metadata": {
    "jp-MarkdownHeadingCollapsed": true
   },
   "source": [
    "### Part One"
   ]
  },
  {
   "cell_type": "code",
   "execution_count": 19,
   "id": "683446ce-b5d2-408f-b95a-eb54ecbdc2ea",
   "metadata": {},
   "outputs": [
    {
     "name": "stdout",
     "output_type": "stream",
     "text": [
      "3598800864292\n"
     ]
    }
   ],
   "source": [
    "from itertools import product\n",
    "from collections.abc import Callable\n",
    "\n",
    "OPERATORS: dict[str, Callable[[int, int], int]] = {\n",
    "    \"+\": lambda a, b: a + b,\n",
    "    \"*\": lambda a, b: a * b,\n",
    "}\n",
    "\n",
    "class Calibration:\n",
    "\n",
    "    def __init__(self, result: int, operands: list[int]):\n",
    "        self.result = result\n",
    "        self.operands = operands\n",
    "\n",
    "    def __str__(self) -> str:\n",
    "        return f\"Calibration({self.result}: {self.operands})\"\n",
    "\n",
    "    def evaluate(self, operators: list[str]) -> bool:\n",
    "        \n",
    "        if not len(self.operands) == len(operators) + 1:\n",
    "            raise ValueError(f\"Provided operator should be len({len(self.operands) - 1}) (is {len(operators)})\")\n",
    "\n",
    "        total: int = self.operands[0]\n",
    "        for i, operator in enumerate(operators, start=1):\n",
    "            total = OPERATORS[operator](total, self.operands[i])\n",
    "\n",
    "        return total == self.result\n",
    "\n",
    "    def is_solvable(self) -> bool:\n",
    "        return any(\n",
    "            self.evaluate(operators)\n",
    "            for operators in product(\n",
    "                OPERATORS,\n",
    "                repeat=len(self.operands) - 1\n",
    "            )\n",
    "        )\n",
    "\n",
    "calibrations: list[Calibration] = []\n",
    "\n",
    "with open(\"input/07\", encoding=\"utf-8\") as input_data:\n",
    "    for line in input_data:\n",
    "        (result, operands) = line.split(\": \")\n",
    "        calibrations.append(Calibration(\n",
    "            int(result),\n",
    "            [int(operand) for operand in operands.split()]\n",
    "        ))\n",
    "\n",
    "result: int = sum(\n",
    "    calibration.result\n",
    "    for calibration in calibrations\n",
    "    if calibration.is_solvable()\n",
    ")\n",
    "\n",
    "print(result)"
   ]
  },
  {
   "cell_type": "markdown",
   "id": "f9ca56e8-9278-4361-b998-fcdec871fe81",
   "metadata": {},
   "source": [
    "### Part Two"
   ]
  },
  {
   "cell_type": "code",
   "execution_count": 20,
   "id": "2816be3e-fa98-4886-99c1-32a4ea7ce651",
   "metadata": {},
   "outputs": [
    {
     "name": "stdout",
     "output_type": "stream",
     "text": [
      "340362529351427\n"
     ]
    }
   ],
   "source": [
    "# Add operator and re-run same logic\n",
    "\n",
    "OPERATORS[\"||\"] = lambda a, b: int(str(a) + str(b))\n",
    "\n",
    "result: int = sum(\n",
    "    calibration.result\n",
    "    for calibration in calibrations\n",
    "    if calibration.is_solvable()\n",
    ")\n",
    "\n",
    "print(result)"
   ]
  },
  {
   "cell_type": "markdown",
   "id": "6a28066d-0d15-426d-b8f7-b8210a56520c",
   "metadata": {},
   "source": [
    "## Day 8 "
   ]
  },
  {
   "cell_type": "markdown",
   "id": "9b64e9a6-9c6c-44d2-9638-899337d573fc",
   "metadata": {},
   "source": [
    "### Part One"
   ]
  },
  {
   "cell_type": "code",
   "execution_count": 49,
   "id": "d56c5511-ad87-4df2-ba9c-aacacb8929ab",
   "metadata": {},
   "outputs": [
    {
     "name": "stdout",
     "output_type": "stream",
     "text": [
      "348\n"
     ]
    }
   ],
   "source": [
    "from dataclasses import dataclass\n",
    "from itertools import combinations\n",
    "from string import ascii_letters, digits\n",
    "\n",
    "VALID_ANTENNAS = ascii_letters + digits\n",
    "\n",
    "@dataclass(frozen=True)\n",
    "class Position:\n",
    "    x: int\n",
    "    y: int\n",
    "\n",
    "    def __mul__(self, scalar: int):\n",
    "        return Position(self.x * scalar, self.y * scalar)\n",
    "    \n",
    "    def __rmul__(self, scalar: int):\n",
    "        return self * scalar;\n",
    "\n",
    "    def __add__(self, other: Position):\n",
    "        return Position(self.x + other.x, self.y + other.y)\n",
    "\n",
    "    def __sub__(self, other: Position):\n",
    "        return Position(self.x - other.x, self.y - other.y)\n",
    "\n",
    "    def __lt__(self, other: Position):\n",
    "        return self.x < other.x and self.y < other.y\n",
    "\n",
    "    def __le__(self, other: Position):\n",
    "        return self.x <= other.x and self.y <= other.y\n",
    "\n",
    "ORIGIN = Position(0, 0)\n",
    "\n",
    "antennas: dict[str, list[Position]] = {}\n",
    "\n",
    "with open(\"input/08\", encoding=\"utf-8\") as input_data:\n",
    "    for (i, line) in enumerate(input_data):\n",
    "        for (j, node) in enumerate(line):\n",
    "            if node in VALID_ANTENNAS:\n",
    "                antennas.setdefault(node, []).append(Position(i, j))\n",
    "\n",
    "    GRID_SIZE = Position(i + 1, j)\n",
    "\n",
    "antinodes: set[Position] = set()\n",
    "\n",
    "for frequency, antennas_same_frequency in antennas.items():\n",
    "    for (a, b) in combinations(antennas_same_frequency, 2):\n",
    "\n",
    "        antinode_ab = 2 * b - a\n",
    "        antinode_ba = 2 * a - b\n",
    "\n",
    "        antinodes |= set(\n",
    "            node for node in [antinode_ab, antinode_ba]\n",
    "            if ORIGIN <= node < GRID_SIZE\n",
    "        )\n",
    "\n",
    "print(len(antinodes))"
   ]
  },
  {
   "cell_type": "markdown",
   "id": "f386b45b-f197-4616-98b5-22479271e866",
   "metadata": {},
   "source": [
    "### Part Two"
   ]
  },
  {
   "cell_type": "code",
   "execution_count": 50,
   "id": "b6458068-d65f-46cf-b573-b0602c135cb6",
   "metadata": {},
   "outputs": [
    {
     "name": "stdout",
     "output_type": "stream",
     "text": [
      "1221\n"
     ]
    }
   ],
   "source": [
    "Position.__neg__ = lambda self: Position(-self.x, -self.y)\n",
    "\n",
    "antinodes: set[Position] = set()\n",
    "\n",
    "for frequency, antennas_same_frequency in antennas.items():\n",
    "    for (a, b) in combinations(antennas_same_frequency, 2):\n",
    "\n",
    "        antinode_dist = b - a\n",
    "\n",
    "        antinodes |= set([a, b])\n",
    "\n",
    "        while ORIGIN <= (a := a - antinode_dist) < GRID_SIZE:\n",
    "            antinodes.add(a)\n",
    "        \n",
    "        while ORIGIN <= (b := b + antinode_dist) < GRID_SIZE:\n",
    "            antinodes.add(b)\n",
    "\n",
    "print(len(antinodes))"
   ]
  }
 ],
 "metadata": {
  "kernelspec": {
   "display_name": "Python 3 (ipykernel)",
   "language": "python",
   "name": "python3"
  },
  "language_info": {
   "codemirror_mode": {
    "name": "ipython",
    "version": 3
   },
   "file_extension": ".py",
   "mimetype": "text/x-python",
   "name": "python",
   "nbconvert_exporter": "python",
   "pygments_lexer": "ipython3",
   "version": "3.13.0"
  }
 },
 "nbformat": 4,
 "nbformat_minor": 5
}
